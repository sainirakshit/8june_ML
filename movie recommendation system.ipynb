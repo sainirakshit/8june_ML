{
 "cells": [
  {
   "cell_type": "code",
   "execution_count": 1,
   "id": "62086991-98ef-4719-a51d-86432d742344",
   "metadata": {},
   "outputs": [],
   "source": [
    "import tkinter as tk\n",
    "import pandas as pd\n",
    "import warnings\n",
    "warnings.filterwarnings('ignore')\n"
   ]
  },
  {
   "cell_type": "code",
   "execution_count": 18,
   "id": "aeaf9971-38c4-448d-96d3-dbef03a2299c",
   "metadata": {},
   "outputs": [
    {
     "name": "stderr",
     "output_type": "stream",
     "text": [
      "Exception in Tkinter callback\n",
      "Traceback (most recent call last):\n",
      "  File \"D:\\anaconda\\lib\\tkinter\\__init__.py\", line 1892, in __call__\n",
      "    return self.func(*args)\n",
      "  File \"<ipython-input-18-7e498a54496f>\", line 23, in recommend\n",
      "    inp = listbox.get(listbox.curselection())\n",
      "  File \"D:\\anaconda\\lib\\tkinter\\__init__.py\", line 3187, in get\n",
      "    return self.tk.call(self._w, 'get', first)\n",
      "_tkinter.TclError: bad listbox index \"\": must be active, anchor, end, @x,y, or a number\n",
      "Exception in Tkinter callback\n",
      "Traceback (most recent call last):\n",
      "  File \"D:\\anaconda\\lib\\tkinter\\__init__.py\", line 1892, in __call__\n",
      "    return self.func(*args)\n",
      "  File \"<ipython-input-18-7e498a54496f>\", line 27, in recommend\n",
      "    recom.drop(inp,axis=0, inplace=True)\n",
      "  File \"D:\\anaconda\\lib\\site-packages\\pandas\\core\\frame.py\", line 4308, in drop\n",
      "    return super().drop(\n",
      "  File \"D:\\anaconda\\lib\\site-packages\\pandas\\core\\generic.py\", line 4153, in drop\n",
      "    obj = obj._drop_axis(labels, axis, level=level, errors=errors)\n",
      "  File \"D:\\anaconda\\lib\\site-packages\\pandas\\core\\generic.py\", line 4188, in _drop_axis\n",
      "    new_axis = axis.drop(labels, errors=errors)\n",
      "  File \"D:\\anaconda\\lib\\site-packages\\pandas\\core\\indexes\\base.py\", line 5591, in drop\n",
      "    raise KeyError(f\"{labels[mask]} not found in axis\")\n",
      "KeyError: \"['Legends of the Fall (1994)'] not found in axis\"\n"
     ]
    }
   ],
   "source": [
    "df = pd.read_csv('C:/Users/Rakshit/Downloads/ml-100k/u.data',sep='\\t', names=['user_id','item_id','rating','ts'])\n",
    "cols = \"item_id|title| release date | video release date |\\\n",
    "              IMDb URL | unknown | Action | Adventure | Animation |\\\n",
    "              Children's | Comedy | Crime | Documentary | Drama | Fantasy |\\\n",
    "              Film-Noir | Horror | Musical | Mystery | Romance | Sci-Fi |\\\n",
    "              Thriller | War | Western\".split('|')\n",
    "movies = pd.read_csv('C:/Users/Rakshit/Downloads/ml-100k/u.item',sep='|',names=cols)\n",
    "data = pd.merge(df.drop('ts',axis=1),movies[['item_id','title']], on='item_id')\n",
    "rate_count =  data.groupby('title')['rating'].count()\n",
    "df_pivot = data.pivot_table(index='user_id',columns='title',values='rating')\n",
    "\n",
    "app = tk.Tk()\n",
    "app.geometry('450x300')\n",
    "app.title('Recommendation Engine')\n",
    "\n",
    "listbox = tk.Listbox(app, height=15, width=30, bg='white',fg='black')\n",
    "listbox.place(x=20,y=20)\n",
    "\n",
    "for i,t in enumerate(data['title'].unique()):\n",
    "    listbox.insert(i+1, t)\n",
    "\n",
    "def recommend():\n",
    "    inp = listbox.get(listbox.curselection())\n",
    "    sim_df = pd.DataFrame(df_pivot.corrwith(df_pivot[inp]),columns=['corr'])\n",
    "    sim_df['count'] = rate_count\n",
    "    recom = sim_df[(sim_df['count']>100)].sort_values('corr',ascending=False)\n",
    "    recom.drop(inp,axis=0, inplace=True)\n",
    "    recommended = recom.index[:3]\n",
    "    result1.set(recommended[0])\n",
    "    result2.set(recommended[1])\n",
    "    result3.set(recommended[2])\n",
    "#     print(inp)\n",
    "#     print(recommended)\n",
    "\n",
    "tk.Button(app,text='Show Recommendations', command=recommend,bg='green',fg='white').place(x=250,y=50)\n",
    "result1 = tk.Variable(app)\n",
    "result1.set('.')\n",
    "tk.Label(app, textvariable=result1).place(x=250,y=100)\n",
    "\n",
    "result2 = tk.Variable(app)\n",
    "result2.set('.')\n",
    "tk.Label(app, textvariable=result2).place(x=250,y=150)\n",
    "\n",
    "result3 = tk.Variable(app)\n",
    "result3.set('.')\n",
    "tk.Label(app, textvariable=result3).place(x=250,y=200)\n",
    "\n",
    "app.mainloop()"
   ]
  },
  {
   "cell_type": "code",
   "execution_count": null,
   "id": "d48300c6-bde3-4226-9e51-7459c7919828",
   "metadata": {},
   "outputs": [],
   "source": []
  }
 ],
 "metadata": {
  "kernelspec": {
   "display_name": "Python 3",
   "language": "python",
   "name": "python3"
  },
  "language_info": {
   "codemirror_mode": {
    "name": "ipython",
    "version": 3
   },
   "file_extension": ".py",
   "mimetype": "text/x-python",
   "name": "python",
   "nbconvert_exporter": "python",
   "pygments_lexer": "ipython3",
   "version": "3.8.8"
  }
 },
 "nbformat": 4,
 "nbformat_minor": 5
}
